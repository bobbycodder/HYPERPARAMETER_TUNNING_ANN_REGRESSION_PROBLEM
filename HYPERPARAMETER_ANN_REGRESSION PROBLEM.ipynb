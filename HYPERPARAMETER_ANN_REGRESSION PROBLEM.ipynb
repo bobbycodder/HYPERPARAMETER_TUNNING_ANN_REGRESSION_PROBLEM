{
 "cells": [
  {
   "cell_type": "code",
   "execution_count": 1,
   "id": "af53b625",
   "metadata": {},
   "outputs": [],
   "source": [
    "import numpy as np\n",
    "import pandas as pd"
   ]
  },
  {
   "cell_type": "raw",
   "id": "a478a9d8",
   "metadata": {},
   "source": [
    "pip install keras-tuner"
   ]
  },
  {
   "cell_type": "code",
   "execution_count": 6,
   "id": "61faa1b4",
   "metadata": {},
   "outputs": [],
   "source": [
    "from tensorflow import keras\n",
    "from tensorflow.keras import layers\n",
    "from keras_tuner.tuners import RandomSearch"
   ]
  },
  {
   "cell_type": "code",
   "execution_count": 8,
   "id": "f9453705",
   "metadata": {},
   "outputs": [
    {
     "name": "stdout",
     "output_type": "stream",
     "text": [
      "2.3.0\n"
     ]
    }
   ],
   "source": [
    "import tensorflow as tf\n",
    "print(tf.__version__)"
   ]
  },
  {
   "cell_type": "code",
   "execution_count": 9,
   "id": "1724d503",
   "metadata": {},
   "outputs": [
    {
     "data": {
      "text/html": [
       "<div>\n",
       "<style scoped>\n",
       "    .dataframe tbody tr th:only-of-type {\n",
       "        vertical-align: middle;\n",
       "    }\n",
       "\n",
       "    .dataframe tbody tr th {\n",
       "        vertical-align: top;\n",
       "    }\n",
       "\n",
       "    .dataframe thead th {\n",
       "        text-align: right;\n",
       "    }\n",
       "</style>\n",
       "<table border=\"1\" class=\"dataframe\">\n",
       "  <thead>\n",
       "    <tr style=\"text-align: right;\">\n",
       "      <th></th>\n",
       "      <th>T</th>\n",
       "      <th>TM</th>\n",
       "      <th>Tm</th>\n",
       "      <th>SLP</th>\n",
       "      <th>H</th>\n",
       "      <th>VV</th>\n",
       "      <th>V</th>\n",
       "      <th>VM</th>\n",
       "      <th>PM 2.5</th>\n",
       "    </tr>\n",
       "  </thead>\n",
       "  <tbody>\n",
       "    <tr>\n",
       "      <th>0</th>\n",
       "      <td>7.4</td>\n",
       "      <td>9.8</td>\n",
       "      <td>4.8</td>\n",
       "      <td>1017.6</td>\n",
       "      <td>93.0</td>\n",
       "      <td>0.5</td>\n",
       "      <td>4.3</td>\n",
       "      <td>9.4</td>\n",
       "      <td>219.720833</td>\n",
       "    </tr>\n",
       "    <tr>\n",
       "      <th>1</th>\n",
       "      <td>7.8</td>\n",
       "      <td>12.7</td>\n",
       "      <td>4.4</td>\n",
       "      <td>1018.5</td>\n",
       "      <td>87.0</td>\n",
       "      <td>0.6</td>\n",
       "      <td>4.4</td>\n",
       "      <td>11.1</td>\n",
       "      <td>182.187500</td>\n",
       "    </tr>\n",
       "    <tr>\n",
       "      <th>2</th>\n",
       "      <td>6.7</td>\n",
       "      <td>13.4</td>\n",
       "      <td>2.4</td>\n",
       "      <td>1019.4</td>\n",
       "      <td>82.0</td>\n",
       "      <td>0.6</td>\n",
       "      <td>4.8</td>\n",
       "      <td>11.1</td>\n",
       "      <td>154.037500</td>\n",
       "    </tr>\n",
       "    <tr>\n",
       "      <th>3</th>\n",
       "      <td>8.6</td>\n",
       "      <td>15.5</td>\n",
       "      <td>3.3</td>\n",
       "      <td>1018.7</td>\n",
       "      <td>72.0</td>\n",
       "      <td>0.8</td>\n",
       "      <td>8.1</td>\n",
       "      <td>20.6</td>\n",
       "      <td>223.208333</td>\n",
       "    </tr>\n",
       "    <tr>\n",
       "      <th>4</th>\n",
       "      <td>12.4</td>\n",
       "      <td>20.9</td>\n",
       "      <td>4.4</td>\n",
       "      <td>1017.3</td>\n",
       "      <td>61.0</td>\n",
       "      <td>1.3</td>\n",
       "      <td>8.7</td>\n",
       "      <td>22.2</td>\n",
       "      <td>200.645833</td>\n",
       "    </tr>\n",
       "  </tbody>\n",
       "</table>\n",
       "</div>"
      ],
      "text/plain": [
       "      T    TM   Tm     SLP     H   VV    V    VM      PM 2.5\n",
       "0   7.4   9.8  4.8  1017.6  93.0  0.5  4.3   9.4  219.720833\n",
       "1   7.8  12.7  4.4  1018.5  87.0  0.6  4.4  11.1  182.187500\n",
       "2   6.7  13.4  2.4  1019.4  82.0  0.6  4.8  11.1  154.037500\n",
       "3   8.6  15.5  3.3  1018.7  72.0  0.8  8.1  20.6  223.208333\n",
       "4  12.4  20.9  4.4  1017.3  61.0  1.3  8.7  22.2  200.645833"
      ]
     },
     "execution_count": 9,
     "metadata": {},
     "output_type": "execute_result"
    }
   ],
   "source": [
    "data = pd.read_csv(\"Real_Combine.csv\")\n",
    "data.head()"
   ]
  },
  {
   "cell_type": "code",
   "execution_count": 12,
   "id": "c765ce16",
   "metadata": {},
   "outputs": [
    {
     "name": "stdout",
     "output_type": "stream",
     "text": [
      "<class 'pandas.core.frame.DataFrame'>\n",
      "RangeIndex: 1093 entries, 0 to 1092\n",
      "Data columns (total 9 columns):\n",
      " #   Column  Non-Null Count  Dtype  \n",
      "---  ------  --------------  -----  \n",
      " 0   T       1093 non-null   float64\n",
      " 1   TM      1093 non-null   float64\n",
      " 2   Tm      1093 non-null   float64\n",
      " 3   SLP     1093 non-null   float64\n",
      " 4   H       1093 non-null   float64\n",
      " 5   VV      1093 non-null   float64\n",
      " 6   V       1093 non-null   float64\n",
      " 7   VM      1093 non-null   float64\n",
      " 8   PM 2.5  1092 non-null   float64\n",
      "dtypes: float64(9)\n",
      "memory usage: 77.0 KB\n"
     ]
    }
   ],
   "source": [
    "data.info()"
   ]
  },
  {
   "cell_type": "code",
   "execution_count": 16,
   "id": "25246652",
   "metadata": {},
   "outputs": [],
   "source": [
    "X = data.iloc[:,:-1]\n",
    "Y = data.iloc[:,-1]"
   ]
  },
  {
   "cell_type": "code",
   "execution_count": 20,
   "id": "0b137658",
   "metadata": {},
   "outputs": [],
   "source": [
    "def build_model(hp):\n",
    "    model = keras.Sequential()\n",
    "    for i in range(hp.Int(\"num layers\",2,30)):\n",
    "        model.add(layers.Dense(units=hp.Int('units_' + str(i),\n",
    "                                            min_value = 150,\n",
    "                                            max_value = 400,\n",
    "                                            step = 32 ),\n",
    "                               activation = 'relu'))\n",
    "    model.add(layers.Dense(1, activation='linear'))\n",
    "    model.compile(\n",
    "        optimizer=keras.optimizers.Adam(\n",
    "            hp.Choice('learning_rate', [1e-2, 1e-3, 1e-4])),\n",
    "        loss='mean_absolute_error',\n",
    "        metrics=['mean_absolute_error'])\n",
    "    return model    \n",
    "                               "
   ]
  },
  {
   "cell_type": "code",
   "execution_count": 22,
   "id": "060ff6e5",
   "metadata": {},
   "outputs": [],
   "source": [
    "tuner = RandomSearch(\n",
    "    build_model,\n",
    "    objective='val_mean_absolute_error',\n",
    "    max_trials=5,\n",
    "    executions_per_trial=3,\n",
    "    directory='projects',\n",
    "    project_name='Air Quality Index')"
   ]
  },
  {
   "cell_type": "code",
   "execution_count": 23,
   "id": "76f874b6",
   "metadata": {},
   "outputs": [
    {
     "name": "stdout",
     "output_type": "stream",
     "text": [
      "Search space summary\n",
      "Default search space size: 4\n",
      "num layers (Int)\n",
      "{'default': None, 'conditions': [], 'min_value': 2, 'max_value': 30, 'step': 1, 'sampling': None}\n",
      "units_0 (Int)\n",
      "{'default': None, 'conditions': [], 'min_value': 150, 'max_value': 400, 'step': 32, 'sampling': None}\n",
      "units_1 (Int)\n",
      "{'default': None, 'conditions': [], 'min_value': 150, 'max_value': 400, 'step': 32, 'sampling': None}\n",
      "learning_rate (Choice)\n",
      "{'default': 0.01, 'conditions': [], 'values': [0.01, 0.001, 0.0001], 'ordered': True}\n"
     ]
    }
   ],
   "source": [
    "tuner.search_space_summary()"
   ]
  },
  {
   "cell_type": "code",
   "execution_count": 25,
   "id": "7e6c35ae",
   "metadata": {},
   "outputs": [],
   "source": [
    "from sklearn.model_selection import train_test_split\n",
    "X_train, X_test, y_train, y_test = train_test_split(X, Y, test_size=0.3, random_state=0)"
   ]
  },
  {
   "cell_type": "code",
   "execution_count": 26,
   "id": "e0351c1a",
   "metadata": {},
   "outputs": [
    {
     "name": "stdout",
     "output_type": "stream",
     "text": [
      "Trial 5 Complete [00h 00m 11s]\n",
      "val_mean_absolute_error: 52.833413441975914\n",
      "\n",
      "Best val_mean_absolute_error So Far: 50.38274129231771\n",
      "Total elapsed time: 00h 01m 15s\n",
      "INFO:tensorflow:Oracle triggered exit\n"
     ]
    }
   ],
   "source": [
    "tuner.search(X_train, y_train,\n",
    "             epochs=10,\n",
    "             validation_data=(X_test, y_test))"
   ]
  },
  {
   "cell_type": "code",
   "execution_count": 28,
   "id": "78d8e140",
   "metadata": {
    "scrolled": false
   },
   "outputs": [
    {
     "name": "stdout",
     "output_type": "stream",
     "text": [
      "Results summary\n",
      "Results in projects\\Air Quality Index\n",
      "Showing 10 best trials\n",
      "Objective(name='val_mean_absolute_error', direction='min')\n",
      "Trial summary\n",
      "Hyperparameters:\n",
      "num layers: 16\n",
      "units_0: 278\n",
      "units_1: 150\n",
      "learning_rate: 0.001\n",
      "units_2: 246\n",
      "units_3: 246\n",
      "units_4: 246\n",
      "units_5: 278\n",
      "units_6: 278\n",
      "units_7: 246\n",
      "units_8: 374\n",
      "units_9: 342\n",
      "units_10: 182\n",
      "units_11: 278\n",
      "units_12: 214\n",
      "units_13: 214\n",
      "units_14: 278\n",
      "units_15: 214\n",
      "units_16: 278\n",
      "units_17: 310\n",
      "units_18: 374\n",
      "units_19: 310\n",
      "units_20: 246\n",
      "Score: 50.38274129231771\n",
      "Trial summary\n",
      "Hyperparameters:\n",
      "num layers: 12\n",
      "units_0: 182\n",
      "units_1: 310\n",
      "learning_rate: 0.001\n",
      "units_2: 214\n",
      "units_3: 246\n",
      "units_4: 374\n",
      "units_5: 278\n",
      "units_6: 214\n",
      "units_7: 246\n",
      "units_8: 182\n",
      "units_9: 310\n",
      "units_10: 214\n",
      "units_11: 374\n",
      "units_12: 310\n",
      "units_13: 214\n",
      "units_14: 214\n",
      "units_15: 278\n",
      "units_16: 342\n",
      "units_17: 214\n",
      "units_18: 310\n",
      "units_19: 278\n",
      "units_20: 374\n",
      "units_21: 246\n",
      "units_22: 150\n",
      "units_23: 310\n",
      "units_24: 374\n",
      "units_25: 342\n",
      "units_26: 374\n",
      "units_27: 374\n",
      "Score: 52.833413441975914\n",
      "Trial summary\n",
      "Hyperparameters:\n",
      "num layers: 17\n",
      "units_0: 310\n",
      "units_1: 150\n",
      "learning_rate: 0.0001\n",
      "units_2: 374\n",
      "units_3: 374\n",
      "units_4: 182\n",
      "units_5: 374\n",
      "units_6: 310\n",
      "units_7: 342\n",
      "units_8: 374\n",
      "units_9: 310\n",
      "units_10: 182\n",
      "units_11: 374\n",
      "units_12: 278\n",
      "units_13: 182\n",
      "units_14: 342\n",
      "units_15: 374\n",
      "units_16: 182\n",
      "units_17: 182\n",
      "units_18: 214\n",
      "units_19: 182\n",
      "units_20: 374\n",
      "units_21: 342\n",
      "units_22: 278\n",
      "units_23: 182\n",
      "units_24: 278\n",
      "units_25: 278\n",
      "units_26: 374\n",
      "units_27: 342\n",
      "Score: 62.83260981241862\n",
      "Trial summary\n",
      "Hyperparameters:\n",
      "num layers: 28\n",
      "units_0: 374\n",
      "units_1: 182\n",
      "learning_rate: 0.01\n",
      "units_2: 278\n",
      "units_3: 278\n",
      "units_4: 246\n",
      "units_5: 182\n",
      "units_6: 214\n",
      "units_7: 214\n",
      "units_8: 214\n",
      "units_9: 246\n",
      "units_10: 246\n",
      "units_11: 246\n",
      "units_12: 342\n",
      "units_13: 150\n",
      "units_14: 342\n",
      "units_15: 214\n",
      "units_16: 342\n",
      "units_17: 246\n",
      "units_18: 310\n",
      "units_19: 374\n",
      "units_20: 214\n",
      "units_21: 150\n",
      "units_22: 150\n",
      "units_23: 150\n",
      "units_24: 150\n",
      "units_25: 150\n",
      "units_26: 150\n",
      "units_27: 150\n",
      "Score: 63.888074239095054\n",
      "Trial summary\n",
      "Hyperparameters:\n",
      "num layers: 21\n",
      "units_0: 246\n",
      "units_1: 310\n",
      "learning_rate: 0.01\n",
      "units_2: 150\n",
      "units_3: 150\n",
      "units_4: 150\n",
      "units_5: 150\n",
      "units_6: 150\n",
      "units_7: 150\n",
      "units_8: 150\n",
      "units_9: 150\n",
      "units_10: 150\n",
      "units_11: 150\n",
      "units_12: 150\n",
      "units_13: 150\n",
      "units_14: 150\n",
      "units_15: 150\n",
      "units_16: 150\n",
      "units_17: 150\n",
      "units_18: 150\n",
      "units_19: 150\n",
      "units_20: 150\n",
      "Score: 63.891682942708336\n"
     ]
    }
   ],
   "source": [
    "tuner.results_summary()"
   ]
  },
  {
   "cell_type": "code",
   "execution_count": null,
   "id": "f6b9354e",
   "metadata": {},
   "outputs": [],
   "source": []
  }
 ],
 "metadata": {
  "kernelspec": {
   "display_name": "Python 3",
   "language": "python",
   "name": "python3"
  },
  "language_info": {
   "codemirror_mode": {
    "name": "ipython",
    "version": 3
   },
   "file_extension": ".py",
   "mimetype": "text/x-python",
   "name": "python",
   "nbconvert_exporter": "python",
   "pygments_lexer": "ipython3",
   "version": "3.8.8"
  }
 },
 "nbformat": 4,
 "nbformat_minor": 5
}
